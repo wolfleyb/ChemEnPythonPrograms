{
 "cells": [
  {
   "cell_type": "markdown",
   "metadata": {},
   "source": [
    "## Use of Fsolve and Interp1d to solve for Conversion in multiple reactor system"
   ]
  },
  {
   "cell_type": "code",
   "execution_count": 2,
   "metadata": {},
   "outputs": [],
   "source": [
    "#Import Boilerplate\n",
    "from __future__ import division\n",
    "import numpy as np\n",
    "import matplotlib.pyplot as plt\n",
    "%matplotlib inline\n",
    "import glob as gb\n",
    "import time\n",
    "\n",
    "from scipy.optimize import fsolve\n",
    "from scipy.integrate import odeint, quad\n",
    "from scipy.interpolate import interp1d\n",
    "from scipy.misc import derivative"
   ]
  },
  {
   "cell_type": "code",
   "execution_count": 6,
   "metadata": {},
   "outputs": [
    {
     "name": "stdout",
     "output_type": "stream",
     "text": [
      "Final Temp Reactor 1: 474.289 K\n",
      "Reactor 1 Conversion: 0.29\n",
      "Final Temp Reactor 2: 445.571 K\n",
      "Reactor 2 Conversion: 0.533\n",
      "Final Temp Reactor 3: 423.004 K\n",
      "Reactor 3 Conversion: 0.738\n",
      "Final Temp Reactor 4: 397.151 K\n",
      "Reactor 4 Conversion: 0.9\n",
      "\n",
      "Q needed between reactor 1&2: -87.145 kcal\n",
      "Q needed between reactor 2&3: -72.785 kcal\n",
      "Q needed between reactor 3&4: -61.502 kcal\n"
     ]
    },
    {
     "data": {
      "image/png": "[encoded data removed]",
      "text/plain": [
       "<Figure size 432x288 with 1 Axes>"
      ]
     },
     "metadata": {},
     "output_type": "display_data"
    }
   ],
   "source": [
    "#Define constants\n",
    "Fa0 = 10  #mol/min\n",
    "Fb0 = Fa0\n",
    "Ke_50 = 500000\n",
    "Cp = 25  #cal/mol-K\n",
    "ΔH_rxn = -30000  #cal/mol A\n",
    "R = 1.9872  #cal/mol-K\n",
    "\n",
    "#Define array of Temperatures\n",
    "\n",
    "T = np.linspace(300,600,200)\n",
    "\n",
    "#Create function to return Xa\n",
    "def Find_Xa (Xa):\n",
    "    return (1-Xa)**2*Ke_50*np.exp(-ΔH_rxn/R * (1/Ti - 1/(273+50))) - Xa**2\n",
    "\n",
    "#initialize Xa array\n",
    "Xa = np.zeros(len(T))\n",
    "\n",
    "#itterate to solve for Xa\n",
    "for i in range(len(T)):\n",
    "    Ti = T[i]\n",
    "    Xa[i] = fsolve(Find_Xa,0.5)\n",
    "    \n",
    "slope = -(Fa0*Cp + Fb0*Cp) / (Fa0*ΔH_rxn)\n",
    "def Xai(Xa0,T):\n",
    "    return Xa0 - slope*300 + slope * T\n",
    "\n",
    "Xa1 = Xai(0,T)\n",
    "\n",
    "\n",
    "#Find intersection 1\n",
    "root1 = Xa - Xa1\n",
    "interp_for_T = interp1d(root1,T)\n",
    "intersect_T1 = interp_for_T(0)\n",
    "Xa1_equ = Xai(0,intersect_T1)\n",
    "print('Final Temp Reactor 1:', round(float(intersect_T1),3), 'K')\n",
    "print('Reactor 1 Conversion:', round(Xa1_equ,3))\n",
    "\n",
    "Xa2 = Xai(Xa1_equ,T)\n",
    "\n",
    "#Find intersection 2\n",
    "root2 = Xa - Xa2\n",
    "interp_for_T2 = interp1d(root2,T)\n",
    "intersect_T2 = interp_for_T2(0)\n",
    "Xa2_equ = Xai(Xa1_equ,intersect_T2)\n",
    "print('Final Temp Reactor 2:', round(float(intersect_T2),3), 'K')\n",
    "print('Reactor 2 Conversion:', round(Xa2_equ,3))\n",
    "\n",
    "Xa3 = Xai(Xa2_equ,T)\n",
    "\n",
    "#Find intersection 3\n",
    "root3 = Xa - Xa3\n",
    "interp_for_T3 = interp1d(root3,T)\n",
    "intersect_T3 = interp_for_T3(0)\n",
    "Xa3_equ = Xai(Xa2_equ,intersect_T3)\n",
    "print('Final Temp Reactor 3:', round(float(intersect_T3),3), 'K')\n",
    "print('Reactor 3 Conversion:', round(Xa3_equ,3))\n",
    "\n",
    "\n",
    "Xa4 = Xai(Xa3_equ,T)\n",
    "\n",
    "#Find intersection 3\n",
    "root4 = Xa - Xa4\n",
    "interp_for_T4 = interp1d(root4,T)\n",
    "intersect_T4 = interp_for_T4(0)\n",
    "Xa4_equ = Xai(Xa3_equ,intersect_T4)\n",
    "print('Final Temp Reactor 4:', round(float(intersect_T4),3), 'K')\n",
    "print('Reactor 4 Conversion:', round(Xa4_equ,3))\n",
    "\n",
    "\n",
    "#Find Q in between\n",
    "def find_Q(Told):\n",
    "    return(20*Cp)*(300 - Told)\n",
    "\n",
    "Q12 = find_Q(intersect_T1) / 1000\n",
    "Q23 = find_Q(intersect_T2) / 1000\n",
    "Q34 = find_Q(intersect_T3) / 1000\n",
    "    \n",
    "plt.plot(T,Xa,label=('Xa_total'))\n",
    "plt.plot(T,Xa1, label=('Xa1'))\n",
    "plt.plot(T,Xa2, label=('Xa2'))\n",
    "plt.plot(T,Xa3, label=('Xa3'))\n",
    "plt.plot(T,Xa4, label=('Xa4'))\n",
    "plt.xlabel('Temperature (K)')\n",
    "plt.ylabel('Conversion')\n",
    "plt.title('Xa vs. T')\n",
    "plt.legend()\n",
    "\n",
    "print()\n",
    "print('Q needed between reactor 1&2:',round(float(Q12),3),'kcal')\n",
    "print('Q needed between reactor 2&3:',round(float(Q23),3),'kcal')\n",
    "print('Q needed between reactor 3&4:',round(float(Q34),3),'kcal')"
   ]
  },
  {
   "cell_type": "code",
   "execution_count": null,
   "metadata": {},
   "outputs": [],
   "source": []
  },
  {
   "cell_type": "code",
   "execution_count": null,
   "metadata": {},
   "outputs": [],
   "source": []
  },
  {
   "cell_type": "code",
   "execution_count": null,
   "metadata": {},
   "outputs": [],
   "source": []
  }
 ],
 "metadata": {
  "anaconda-cloud": {},
  "kernelspec": {
   "display_name": "Python 3",
   "language": "python",
   "name": "python3"
  },
  "language_info": {
   "codemirror_mode": {
    "name": "ipython",
    "version": 3
   },
   "file_extension": ".py",
   "mimetype": "text/x-python",
   "name": "python",
   "nbconvert_exporter": "python",
   "pygments_lexer": "ipython3",
   "version": "3.6.5"
  }
 },
 "nbformat": 4,
 "nbformat_minor": 1
}
